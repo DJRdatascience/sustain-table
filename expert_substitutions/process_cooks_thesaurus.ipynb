{
 "cells": [
  {
   "cell_type": "code",
   "execution_count": null,
   "metadata": {},
   "outputs": [],
   "source": [
    "import pickle\n",
    "import pandas as pd\n",
    "from nltk.stem import WordNetLemmatizer\n",
    "lemmatizer = WordNetLemmatizer()"
   ]
  },
  {
   "cell_type": "markdown",
   "metadata": {},
   "source": [
    "# Import data from Cook's Thesaurus"
   ]
  },
  {
   "cell_type": "code",
   "execution_count": null,
   "metadata": {},
   "outputs": [],
   "source": [
    "df = pd.read_pickle('cooks_thesaurus_results_Oct12.pkl')\n",
    "df.shape"
   ]
  },
  {
   "cell_type": "markdown",
   "metadata": {},
   "source": [
    "# Process data"
   ]
  },
  {
   "cell_type": "code",
   "execution_count": null,
   "metadata": {},
   "outputs": [],
   "source": [
    "df_new = df.copy().reset_index(drop=True)\n",
    "df_new['item_name'] =  [ l[0] for l in df['item'] ]\n",
    "df_new['item_lem'] = df_new['item_name'].apply( lemmatizer.lemmatize ) #We use the lemmatized item name for the unique key associated with each ingredient\n",
    "df_new['subcat_lem']= df_new['subcat'].apply( lemmatizer.lemmatize )\n",
    "df_new['cat_lem']= df_new['cat'].apply( lemmatizer.lemmatize )\n",
    "df_new = df_new.drop_duplicates(subset=['item_lem'])"
   ]
  },
  {
   "cell_type": "code",
   "execution_count": null,
   "metadata": {},
   "outputs": [],
   "source": [
    "get_subs = pd.Series(df_new['item substitutions'].values,index=df_new['item_lem']).to_dict() # This dictionary helps us get substitutions\n",
    "get_common_name = pd.Series(df_new['item_name'].values,index=df_new['item_lem']).to_dict() # This dictionary helps us convert from name key to common name\n",
    "get_name_key = pd.Series(df_new['item'].values,index=df_new['item_lem']) # This dictionary helps us get name key from other names\n",
    "get_name_key = get_name_key.apply(pd.Series).stack().apply( lemmatizer.lemmatize )\n",
    "get_name_key = get_name_key.drop_duplicates() #Again, for now, we drop duplicates\n",
    "get_name_key = pd.Series( get_name_key.index.get_level_values(0), index=get_name_key.values ).to_dict() "
   ]
  }
 ],
 "metadata": {
  "kernelspec": {
   "display_name": "Python 3.9.14 ('venv': venv)",
   "language": "python",
   "name": "python3"
  },
  "language_info": {
   "codemirror_mode": {
    "name": "ipython",
    "version": 3
   },
   "file_extension": ".py",
   "mimetype": "text/x-python",
   "name": "python",
   "nbconvert_exporter": "python",
   "pygments_lexer": "ipython3",
   "version": "3.9.14"
  },
  "orig_nbformat": 4,
  "vscode": {
   "interpreter": {
    "hash": "c30788dc49a0c450f8bd710beb08d90334d11c93adc4c59cb8ced2464dfa7ad1"
   }
  }
 },
 "nbformat": 4,
 "nbformat_minor": 2
}
