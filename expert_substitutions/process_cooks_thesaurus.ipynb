{
 "cells": [
  {
   "cell_type": "code",
   "execution_count": 8,
   "metadata": {},
   "outputs": [],
   "source": [
    "import pickle\n",
    "import pandas as pd\n",
    "from nltk.stem import WordNetLemmatizer\n",
    "lemmatizer = WordNetLemmatizer()"
   ]
  },
  {
   "cell_type": "markdown",
   "metadata": {},
   "source": [
    "# Import data from Cook's Thesaurus"
   ]
  },
  {
   "cell_type": "code",
   "execution_count": 9,
   "metadata": {},
   "outputs": [
    {
     "data": {
      "text/plain": [
       "(2181, 9)"
      ]
     },
     "execution_count": 9,
     "metadata": {},
     "output_type": "execute_result"
    }
   ],
   "source": [
    "df = pd.read_pickle('cooks_thesaurus_results_Oct12.pkl')\n",
    "df.shape"
   ]
  },
  {
   "cell_type": "markdown",
   "metadata": {},
   "source": [
    "# Process data"
   ]
  },
  {
   "cell_type": "code",
   "execution_count": 11,
   "metadata": {},
   "outputs": [],
   "source": [
    "df_new = df.copy().reset_index(drop=True)\n",
    "df_new['item_name'] =  [ l[0] for l in df['item'] ]\n",
    "df_new['item_lem'] = df_new['item_name'].apply( lemmatizer.lemmatize ) #We use the lemmatized item name for the unique key associated with each ingredient\n",
    "df_new['subcat_lem']= df_new['subcat'].apply( lemmatizer.lemmatize )\n",
    "df_new['cat_lem']= df_new['cat'].apply( lemmatizer.lemmatize )\n",
    "df_new = df_new.drop_duplicates(subset=['item_lem'])"
   ]
  },
  {
   "cell_type": "code",
   "execution_count": 12,
   "metadata": {},
   "outputs": [],
   "source": [
    "get_subs = pd.Series(df_new['item substitutions'].values,index=df_new['item_lem']).to_dict() # This dictionary helps us get substitutions\n",
    "get_common_name = pd.Series(df_new['item_name'].values,index=df_new['item_lem']).to_dict() # This dictionary helps us convert from name key to common name\n",
    "get_name_key = pd.Series(df_new['item'].values,index=df_new['item_lem']) # This dictionary helps us get name key from synonymns\n",
    "get_name_key = get_name_key.apply(pd.Series).stack().apply( lemmatizer.lemmatize )\n",
    "get_name_key = get_name_key.drop_duplicates() #Again, for now, we drop duplicates\n",
    "get_name_key = pd.Series( get_name_key.index.get_level_values(0), index=get_name_key.values ).to_dict() "
   ]
  },
  {
   "cell_type": "code",
   "execution_count": 19,
   "metadata": {},
   "outputs": [
    {
     "data": {
      "text/plain": [
       "dict_values(['beet', 'black radish', 'burdock', 'carrot', 'celeriac', 'daikon', 'horseradish', 'lotus root', 'parsley root', 'parsnip', 'radish', 'rutabaga', 'salsify', 'turnip', 'arrowroot', 'cassava', 'jerusalem artichoke', 'jicama', 'malanga', 'potatoes', 'sweet potatoes', 'taro', 'water chestnut', 'bintje potato', 'fingerling potato', 'huckleberry potato', 'long white potato', 'new potatoes', 'oca potato', 'purple potato', 'red-skinned potato', 'russet potato', 'white round potato', 'yellow finn potato', 'yukon gold potato', 'boniato', 'japanese yam', 'okinawan purple potato', 'sweet potato', 'tropical yam', 'yam', 'yamaimo', 'asparagus', 'bamboo shoots', 'cardoon', 'celery', 'chinese celery', 'fennel', 'fiddlehead fern', 'hearts of palm', 'rhubarb', 'white asparagus', 'wild asparagus', 'green onion', 'leek', 'ramps', 'spring onion', 'bermuda onion', 'boiling onion', 'cippolini onion', 'onion flakes', 'onion powder', 'pearl onion', 'red onion', 'shallot', 'sweet onion', 'white onion', 'yellow onion', 'green garlic', 'elephant garlic', 'garlic flakes', 'garlic greens', 'garlic juice', 'garlic powder', 'garlic salt', 'granulated garlic', 'fingerroot', 'galangal', 'ginger root', 'green ginger', 'miyoga', 'turmeric', 'arugula', 'belgian endive', 'bibb lettuce', 'boston lettuce', 'corn salad', 'cress', 'curly endive', 'dandelions', 'endigia', 'escarole', 'green-leaf lettuce', 'iceberg lettuce', 'lettuce', 'lollo rosso', 'mizuna', 'oakleaf lettuce', 'radicchio', 'red-leaf lettuce', 'red orach', 'red mustard', 'romaine lettuce', 'mesclun', 'tat soi', 'winter purslane', 'beet greens', 'broccoli raab', 'callaloo', 'celtuce', 'chinese broccoli', 'chinese spinach', 'chrysanthemum leaves', 'collard greens', 'gai choy', 'jam leaf', 'jute leaf', 'kale', 'kohlrabi greens', 'malabar spinach', 'mustard greens', 'nettles', 'purslane', 'radish greens', 'sorrel', 'spinach', 'swiss chard', 'turnip greens', 'water spinach', 'artichoke', 'broccoflower', 'broccoli', 'broccoli romanesco', 'broccolini', 'cauliflower', 'dragon tongue bean', 'green bean', 'haricot verts', 'italian flat bean', 'sator', 'wax bean', 'yard-long bean', 'snow pea', 'sugar snap', 'fresh black-eyed pea', 'garden pea', 'fresh cannellini bean', 'fresh cranberry bean', 'edamame', 'fresh', 'fresh lima bean', 'abalone cap mushroom', \"bear's head mushroom\", 'black trumpet mushroom', 'blewit mushrooms', 'cauliflower mushroom', 'chanterelle', 'chestnut mushroom', 'chicken-of-the-woods mushroom', 'cinnamon cap mushroom', 'clamshell mushroom', 'cloud ear mushroom', 'cremini mushroom', 'enoki mushroom', 'eryngii mushroom', 'fairy-ring mushroom', 'gamboni mushroom', \"hawk's wing mushroom\", 'hedgehog mushroom', 'huitlacoche', 'lobster mushroom', 'maitake mushroom', 'matsutake mushroom', 'morels', 'nameko mushroom', 'oyster mushroom', 'pom pom mushroom', 'puff ball mushroom', 'porcino', 'portobello mushroom', 'red oyster mushroom', 'shiitake mushroom', 'shimeji mushroom', \"st. george's mushroom\", 'straw mushrooms', 'truffles', 'trumpet royale mushroom', 'white chanterelle mushroom', 'white mushroom', 'winecap mushroom', 'wood ear mushroom', 'yellow foot mushroom', 'bitter melon', 'chinese okra', 'fuzzy melon', 'indian bitter melon', 'opo squash', 'winter melon', 'bacon avocado', 'fuerte avocado', 'hass avocado', 'mexican avocado', 'pinkerton avocado', 'reed avocado', 'dried chiles', 'ají panca chile', 'ancho chile pepper', 'california chile', 'cascabel pepper', 'catarina chile', 'chilhuacle negro chile', 'chilcostle chile', 'chile de arbol', 'chipotle pepper', 'costeño amarillo chile', 'guajillo chile', 'habanero  chile', 'japanese dried chile', 'mirasol chile', 'morita pepper', 'mulato chile', 'new mexico red chile', 'onza roja chile', 'pasilla chile', 'pequin pepper', 'puya chile', 'chiltpin', 'chile', 'banana pepper', 'cayenne pepper', 'cherry pepper', 'chilaca', 'fresno pepper', 'guero', 'habanero chile', 'holland chile', 'jalapeno pepper', 'manzana chile', 'mirasol pepper', 'new mexico green chile', 'poblano pepper', 'rocoto chile', 'scotch bonnet chile', 'serrano pepper', 'shishito chile', 'thai chile', 'yellow wax pepper', 'cucumber', 'varieties:', 'armenian cucumber', 'english cucumber', 'japanese cucumber', 'kirby cucumber', 'lemon cucumber', 'garden cucumber', 'mediterranean cucumber', 'persian cucumber', 'american eggplant', 'apple green eggplant', 'chinese eggplant', 'dried eggplant', 'filipino eggplant', 'green goddess eggplant', 'hawaiian eggplant', 'holland eggplant', 'indian eggplant', 'italian eggplant', 'japanese eggplant', 'pea eggplants', 'rosa bianca eggplant', 'thai eggplants', 'white eggplant', 'alphonso olive', 'amphissa olive', 'arbequina olive', 'atalanta olive', 'cerignola', 'empeltre olive', 'gaeta olive', 'hondroelia olive', 'kalamata olive', 'ligurian olive', 'lucque olive', 'manzanilla olive', 'marche olive', 'mission olive', 'moroccan dry-cured olive', 'nafplion green olive', 'nicoise olive', 'nyons olive', 'picholine olive', 'raw green olive', 'seracena olive', 'sicilian olive', 'toscanelle olive', 'chayote', 'globe squash', 'pattypan squash', 'scallopini', 'tinda', 'yellow squash', 'zucchini', 'bell pepper', 'cubanelle', 'holland bell pepper', 'pimento', 'cherry tomato', 'grape tomatoes', 'green tomato', 'sauce tomato', 'slicing tomato', 'teardrop tomato', 'vine tomato', 'acorn squash', 'banana squash', 'buttercup squash', 'butternut squash', 'delicata squash', 'golden nugget squash', 'hubbard squash', 'kabocha squash', 'pumpkin', 'spaghetti squash', 'sweet dumpling squash', 'turban squash', 'arame', 'dulse', 'hair vegetable', 'hijiki', 'konbu', 'sushi nori', 'laver', 'salted seaweed', 'seabean', 'wakame', 'alfalfa sprouts', 'broccoli sprouts', 'buckwheat sprouts', 'daikon sprouts', 'fenugreek sprouts', 'mung bean sprouts', 'onion sprouts', 'snow pea shoots', 'soybean sprouts', 'nopale', 'nopalitos', 'bergamot', 'blood orange', 'b', 'citron', 'grapefruit', 'kaffir lime', 'key lime', 'kumquat', 'lemon', 'lime', 'limequat', 'mandarin orange', 'meyer lemon', 'orange', 'pomelo', 'rangpur lime', 'seville orange', 'tangelo', 'ugli fruit', 'baby kiwifruit', 'blackberry', 'black currant', 'blueberry', 'boysenberry', 'cape gooseberry', 'cranberry', 'currant', 'frais des bois', 'golden raspberry', 'gooseberry', 'grapes', 'huckleberry', 'keriberry', 'kiwi fruit', 'lingonberry', 'loganberry', 'olallieberry', 'raspberry', 'red currant', 'strawberry', 'sweet gooseberry', 'white currant', 'zante grapes', 'apricot', 'aprium', 'cherry', 'donut peach', 'green almonds', 'nectarine', 'peach', 'plum', 'pluot', 'sour cherry', 'sweet cherry', 'banana', 'coconut', 'dates', 'fig', 'green papaya', 'kadota fig', 'mango', 'pawpaw', 'persimmon', 'pineapple', 'pomegranate', 'star fruit', 'ackee', 'breadfruit', 'cashew apple', 'cherimoya', 'chinese date', 'dragon fruit', 'durian', 'feijoa', 'guava', 'jackfruit', 'litchi', 'longan', 'mamey sapote', 'mangosteen', 'passionfruit', 'pepino', 'plantain', 'prickly pear', 'rambutan', 'soursop', 'tamarind', 'tamarillo', 'toddy palm seeds', 'white sapote', 'ambrosia melon', 'canary melon', 'cantaloupe', 'casaba melon', 'charantais melon', 'crane melon', 'cranshaw melon', 'galia melon', 'honeydew melon', 'kharbouza melon', 'kiwano', 'ogen melon', 'persian melon', 'santa claus melon', 'sharlyn melon', 'watermelon', 'yellow melon', 'apple, dried', 'apricot, dried', 'dried apricot paste', 'banana, dried', 'cantaloupe, dried', 'carrots, dried', 'cherry, dried', 'coconut, grated', 'cranberries, dried', 'date, dried', 'fig, dried', 'golden raisin', 'kokum', 'litchi nut', 'mango, dried', 'mulberries, dried', 'nectarines, dried', 'papaya, dried', 'peach, dried', 'pear, dried', 'persimmon, dried', 'pineapple, dried', 'prune', 'raisins', 'sour prunes', 'strawberries, dried', 'sun-dried tomatoes', 'apples', 'asian pear', 'crab apple', 'loquat', 'pear', 'quince', 'ambrosia apple', 'arkansas black apple', 'braeburn apple', 'cameo apple', 'elstar apple', 'empire apple', 'enterprise apple', 'fuji apple', 'gala apple', 'golden delicious apple', 'granny smith apple', 'gravenstein apple', 'jonagold apple', 'jonathan apple', 'lady apple', 'mcintosh apple', 'mutsu apple', 'northern spy apple', 'pink lady apple', 'pippin apple', 'red delicious apple', 'rhode island greening', 'rome apple', 'sierra beauty apple', 'spartan apple', 'sundowner apple', 'winesap', 'york imperial', 'southern rose apple', 'anjou pear', 'bartlett pear', 'bosc pear', 'california sugar pear', 'comice pear', 'french butter pear', 'red anjou pear', 'red bartlett pear', 'red cascade pear', 'seckel pear', 'starkrimson pear', \"taylor's gold pear\", 'winter nellis pear', 'apple butter', 'applesauce', 'apricot jam', 'black currant jelly', 'blueberry jam', 'cloudberry preserves', 'cranberry sauce', 'gooseberry preserves', 'grape jelly', 'loganberry jam', 'maraschino cherry', 'marmalade', 'membrillo', 'mincemeat', 'mint-flavored apple jelly', 'pureed prunes', 'raspberry preserves', 'red currant jelly', 'strawberry preserves', 'candied angelica', 'candied apricot', 'candied citron peel', 'candied fruit', 'candied lemon peel', 'candied orange peel', 'candied pineapple', 'crystallized ginger', 'glace cherries', 'apple cider', 'apple juice', 'bayberry juice', 'bitter orange juice', 'carrot juice', 'clam juice', 'cranberry juice', 'grape juice', 'grapefruit juice', 'kalamansi juice', 'key lime juice', 'lemon juice', 'lime juice', 'orange juice', 'pineapple juice', 'pomegranate juice', 'prune juice', 'tomato juice', 'v-8 juice', 'clotted cream', 'evaporated milk', \"goat's milk\", 'half-and-half', 'heavy cream', 'milk', 'powdered milk', 'sweetened condensed milk', 'whipped cream', 'links:', 'buttermilk', 'crema', 'créme fraîche', 'jocoque', 'kefir', 'qurut', 'smetana', 'sour cream', 'yogurt', 'to make your own:', 'almond milk', 'coconut milk', 'cream of coconut', 'horchata', 'nondairy topping', 'oat milk', 'rice milk', 'soy milk', 'soft cheese', 'boursault', 'brie', 'brillat savarin cheese', 'brinza cheese', 'camembert', 'chaource cheese', 'coulommiers', 'explorateur', 'feta', 'hand', 'humboldt fog cheese', 'kochkäse', 'livarot', 'manouri cheese', 'maroilles', \"pont-l'evêque\", 'reblochon cheese', 'ricotta salata', 'robiola', 'schloss', 'saint andré cheese', 'saint marcellin cheese', 'stracchino', 'teleme', 'semi-soft cheese', 'asadero', 'se', 'bel paese', 'caciocavallo', 'casero cheese', 'chaubier cheese', 'corsu vecchio cheese', 'esrom', 'fiore sardo cheese', 'gouda', 'haloumi', 'havarti', 'jack cheese', 'laguiole', 'lappi', 'limburger', 'morbier cheese', 'mozzarella', 'mozzarella di bufalo', 'muenster', 'oka', 'ossau-iraty cheese', 'port salut cheese', 'provolone', 'saint paulin cheese', 'scamorza', 'string cheese', 'taleggio', 'tilsit', 'tomme crayeuse cheese', 'tomme de savoie cheese', 'urgelia cheese', 'vacherin', 'semi-firm cheese', 'abondance', 'appenzell', 'asiago', 'beaufort', 'caciotta', 'caerphilly', 'cantal', 'cheddar', 'cheshire', 'comte', 'danbo', 'derby cheese', 'edam', 'emmental', 'fontina', 'gamonedo', 'gjetost', 'gloucester', 'gruyere', 'idiazabal cheese', 'jarlsberg', 'kashkaval', 'kasseri', 'lancashire', 'leerdammer', 'leyden', 'mahón cheese', 'manchego', 'nøkkelost', 'raclette', 'saint nectaire cheese', 'swiss cheese', 'tete de moine', 'vasterboten cheese', 'wensleydale', 'firm cheeses', 'cotija', 'dry jack', 'grana padano', 'kefalotyri', 'mimolette cheese', 'mizithra', 'parmesan cheese', 'pecorino tuscano', 'queso enchilada', 'romano', 'saenkanter cheese', 'sapsago', 'sbrinz', 'blue cheese', 'complements:', \"bleu d'auvergne\", 'blue castello', 'cabrales', 'cambozola', 'cashel bleu', 'danish blue', \"fourme d'ambert\", 'gorgonzola', 'maytag blue', 'montbriac', 'picon', 'roquefort', 'saga blue', 'saint agur cheese', 'shropshire blue cheese', 'stilton cheese', 'valdeon', 'fresh cheese', 'boursin', 'buttermilk cheese', 'cottage cheese', 'substitutes:', 'cream cheese', 'farmer cheese', 'fresh hispanic cheese', 'fromage blanc', 'goat cheese', 'kefir cheese', 'mascarpone', 'mizithra cheese', 'neufchatel', 'paneer cheese', 'quark', 'queso fresco', 'queso para freir', 'queso panela', 'ricotta cheese', 'rondelé', 'yogurt cheese', 'cheese substitutes', 'american cheese', 'pasteurized process cheese food', 'pasteurized process cheese sauce or spread', 'vache qui rit', 'duck egg', 'egg', 'egg substitute', 'meringue powder', 'quail egg', 'salted duck egg', 'cilantro', 'mint', 'filé powder', 'anise basil', 'bai-toey', 'betel leaf', 'chile leaf', 'chinese chives', 'flowering chives', 'holy basil', 'indonesian bay leaf', 'kaffir lime leaf', 'laksa leaf', 'la-lot leaf', 'lemon basil', 'lemongrass', 'mitsuba', 'rice paddy herb', 'sawleaf herb', 'screw pine leaf', 'sesame leaf', 'shiso', 'sweet asian basil', 'thai basil', 'tia to', 'yellow chinese chives', 'angelica', 'basil', 'bay leaf', 'borage', 'chervil', 'chives', 'curly parsley', 'dill leaf', 'hyssop', 'italian parsley', 'lemon balm', 'lemon verbena', 'lovage', 'marjoram', 'opal basil', 'oregano', 'parsley', 'rosemary', 'sage', 'savory', 'summer savory', 'sweet basil', 'tarragon', 'thyme', 'winter savory', 'avocado leaves', 'boldo leaves', 'epazote', 'guajes', 'hoja santa leaves', 'h', 'safflower', 'papalo', 'pipicha', 'romeritos', 'yerba buena', 'curry leaf', 'fenugreek leaves', 'meloukhia', 'allspice', 'anise seed', 'cardamom', 'cassia cinnamon', 'cinnamon', 'clove', 'coriander seeds', 'cumin', 'dill seed', 'fennel seed', 'mace', 'mustard seeds', 'poppy seeds', 'saffron', 'sesame seed', 'ground turmeric', 'vanilla bean', 'yellow mustard seeds', 'african bird pepper', 'osho sho', 'ukpo', 'basil seed', 'black sesame seeds', 'star anise', 'szechwan peppercorn', 'caraway seed', 'celery seed', 'ginger', 'juniper berries', 'lemon peel, dried', 'nutmeg', 'orange peel, dried', 'paprika', 'annatto seed', 'red chile powder', 'red pepper flakes', 'ajwain', 'amchoor', 'asafetida', 'black cumin seeds', 'black mustard seeds', 'brown cardamom', 'brown mustard seeds', 'fenugreek', 'nigella', 'pomegranate seeds', 'white poppy seeds', 'aleppo pepper', 'mahlab', 'sumac berries', 'pepper', 'black pepper', 'green pepper', 'pink peppercorns', 'white pepper', 'berbere', 'ras el hanout', 'apple pie spice', 'cajun spice mix', 'celery salt', 'chili powder', 'chili seasoning', 'crab boil', 'creole spice mix', 'lemon pepper', 'onion salt', 'onion soup mix', 'pickling spice', 'pizza spice', 'poultry seasoning', 'pumpkin pie spice', 'spike', 'chinese five-spice powder', 'sesame salt', 'shichimi togarashi', 'beau monde seasoning', 'bouquet garni', 'fines herbes', 'greek seasoning', 'herbes de provence', 'italian seasoning', 'mixed spice', 'mulling spice mix', 'quatre epices', 'menudo mix', 'taco seasoning', 'chat masala', 'curry powder', 'garam masala', 'panch phoron', 'tandoori seasoning', 'baharat', 'zahter', 'egusi seeds', 'ehuru seeds', 'flax seed', 'hemp seed', 'jackfruit seed', 'ogbono', 'psyllium seeds', 'pumpkin seeds', 'squash seeds', 'sunflower seeds', 'uda seeds', 'watermelon seeds', 'almond extract', 'anise oil', 'ginger juice', 'imitation vanilla extract', 'kewra water', 'liquid smoke', 'oil of bitter almonds', 'orange flower water', 'rose water', 'truffle oil', 'vanilla extract', 'salt', 'bamboo salt', 'black salt', 'coarse salt', 'fine salt', 'french sea salt', 'hawaiian salt', 'kosher salt', 'margarita salt', 'pretzel salt', 'rock salt', 'sea salt', 'table salt', 'chinese sugar', 'cinnamon sugar', 'custard powder', 'dark brown sugar', 'demerara sugar', 'fructose', 'granulated sugar', 'jaggery', 'light brown sugar', 'malt sugar', 'maple sugar', 'marshmallow', 'marshmallow creme', 'misri', 'muscovado sugar', 'palm sugar', 'piloncillo', 'powdered sugar', 'sucanat', 'sugar cane', 'turbinado sugar', 'zucker hut', 'liquid sweeteners', 'barley malt syrup', 'black treacle', 'blackstrap molasses', 'brown rice syrup', 'corn syrup', 'dark corn syrup', 'golden syrup', 'one cup', 'maple syrup', 'molasses', 'orgeat', 'pancake syrup', 'swedish light syrup', 'bittersweet chocolate', 'carob', 'carob chips', 'chocolate chips', 'chocolate curls', 'chocolate-hazelnut spread', 'cocoa', 'cocoa butter', 'compound chocolate coating', 'dark chocolate', 'gianduja', 'hot cocoa mix', 'mexican chocolate', 'milk chocolate', 'semi-sweet chocolate', 'sweet chocolate', 'unsweetened chocolate', 'white chocolate', 'white chocolate chips', 'caramels', \"decorator's sugar\", 'dragees', 'english toffee', 'halvah', 'jelly beans', 'jimmies', 'nonpareils', 'peanut butter chips', 'red hots', 'snowflakes', 'sparkling sugar', 'almond butter', 'almond paste', 'almond filling', 'cashew butter', 'chestnut purée', 'hazelnut butter', 'marzipan', 'nut butter', 'peanut butter', 'poppy seed filling', 'praline paste', 'sesame paste', 'sunflower butter', 'harissa', 'barbecue sauce', 'creole mustard', 'chili sauce', 'cocktail sauce', 'hot pepper sauce', 'huli-huli sauce', 'ketchup', 'mustard, prepared', 'relish', 'asian condiments', 'asian barbecue sauce', 'bean sauce', 'black bean sauce', 'chee hou sauce', 'chile bean paste', 'chinese mustard', 'coconut egg jam', 'dwen jang', 'fish sauce', 'green curry paste', 'hoisin sauce', 'hot garlic sauce', 'kecap manis', 'korean barbecue sauce', \"maggi's seasoning sauce\", 'oyster sauce', 'plum sauce', 'red sweet bean paste', 'red curry paste', 'sambal bajak', 'sambal manis', 'sambal oelek', 'shrimp paste', 'soy sauce', 'sriracha', 'sweet and sour sauce', 'sweet bean sauce', 'tamari', 'wasabi', 'yellow curry paste', 'aioli', 'anchovy paste', 'dijon mustard', 'hollandaise sauce', 'mayonnaise', 'mint sauce', 'piccalilli relish', 'tapenade', 'tomato paste', 'tomato puree', 'tomato sauce', 'worcestershire sauce', 'adobo sauce', 'enchilada sauce', 'guacamole', 'mole sauce', 'pipián', 'recaito', 'red chile sauce', 'rocoto sauce', 'salsa', 'salsa verde', 'taco sauce', 'chutney', 'tamarind paste', 'hummus', 'vinegar', 'balsamic vinegar', 'cane vinegar', 'champagne vinegar', 'chinese black vinegar', 'cider vinegar', 'coconut vinegar', 'flavored vinegar', 'fruit vinegar', 'herb vinegar', 'malt vinegar', 'palm vinegar', 'raspberry vinegar', 'red rice vinegar', 'red wine vinegar', 'rice vinegar', 'seasoned rice vinegar', 'sherry vinegar', 'tarragon vinegar', 'umeboshi vinegar', 'verjus', 'white rice vinegar', 'white vinegar', 'white wine vinegar', 'wine vinegar', 'liqueur', 'brandy', 'apple brandy', 'armagnac', 'cachaça', 'cognac', 'framboise', 'fruit-flavored brandy', 'grappa', 'kirsch', 'metaxa', 'pear brandy', 'pisco', 'plum brandy', 'spanish brandy', 'beef broth', 'beef stock', 'browning', 'chicken broth', 'chicken stock', 'dashi', 'vegetable stock', 'vegetable broth', 'soda water', 'sparkling mineral water', 'water', 'long-grain rice', 'basmati rice', 'bhutanese red rice', 'black japonica rice', 'black forbidden rice', 'brown rice', 'converted rice', 'cream of rice', 'glutinous rice', 'himalayan red rice', 'instant rice', 'jasmine rice', 'kalijira rice', 'medium-grain rice', 'pinipig', 'puffed rice', 'risotto rice', 'short-grain rice', 'spanish rice', 'wehani rice', 'white rice', 'wild pecan rice', 'wild rice', 'wheat', 'bulgur', 'cracked wheat', 'soft wheat berries', 'wheat berries', 'wheat flakes', 'baby corn', 'hominy', 'hominy grits', 'nixtamal', 'popcorn', 'purple corn', 'white corn', 'instant oats', 'oat groats', 'quick oats', 'rolled oats', 'steel-cut oats', 'barley flakes', 'hato mugi', 'hulled barley', 'pearl barley', 'quick-cooking barley', 'sprouting barley', 'buckwheat grits', 'buckwheat groats', 'kasha', 'unhulled buckwheat groats', 'rye berries', 'rye flakes', 'kamut« brand wheat', 'kamut« brand flakes', 'kamut« brand berries', 'triticale', 'triticale berries', 'triticale flakes', 'spelt berries', 'spelt flakes', 'amaranth', 'black quinoa', 'millet', 'psyllium seed husks', 'quinoa', 'quinoa flakes', 'teff', 'wheat flour', 'all-purpose flour', 'bread flour', 'cake flour', 'farina', 'graham flour', 'gluten', 'pastry flour', 'semolina', 'unbleached flour', 'wheat bran', 'wheat germ', 'whole wheat flour', 'bajri flour', 'barley flour', 'blue cornmeal', 'brown rice flour', 'buckwheat flour', 'casava flour', 'chapati flour', 'chickpea flour', 'corn flour', 'cornmeal', 'dhokra flour', 'gari', 'masa harina', 'millet flour', 'oat bran', 'oat flour', 'plantain flour', 'polenta meal', 'pumpernickel flour', 'pumpkin seed flour', 'quinoa flour', 'rice bran', 'rye flour', 'sorghum flour', 'soy flour', 'spelt flour', 'teff flour', 'white rice flour', 'yellow pea flour', 'nut flour', 'nut meal', 'acorn starch', 'almond flour', 'almond meal', 'chestnut flour', 'hazelnut flour', 'hazelnut meal', 'pecan meal', 'walnut meal', 'pasta', 'rods', 'ribbons', 'shapes', 'soup pasta', 'tubes', 'stuffed pasta', 'black pasta', 'corn pasta', 'dried pasta', 'egg pasta', 'fregola', 'flavored pasta', 'fresh pasta', 'long pasta', 'pasta sheet', 'quinoa pasta', 'ribbed pasta', 'rice pasta', 'short pasta', 'smooth pasta', 'soy pasta', 'spelt pasta', 'whole wheat pasta', 'angel hair pasta', 'capellini', 'chitarra', 'fedelini', 'mparrettai', 'spaghetti', 'spaghettini', 'vermicelli', 'fettuccine', 'lasagne', 'linguine', 'mafalde', 'pappardelle', 'pizzoccheri', 'sagnarelli', 'stringozzi', 'tagliatelle', 'taglierini', 'trenette', 'casarecci', 'cavatelli', 'conchiglie', 'conchiglioni', 'creste di galli', 'farfalle', 'fusilli', 'fusilli col buco', 'gemelli', 'gigli', 'gnocchetti', 'gramigna', 'lumaconi', 'malloreddus', 'maltagliati', 'orecchiette', 'quadrefiore', 'radiatori', 'ruote', 'rotini', 'spiralini', 'strozzapreti', 'torchio', 'trenne', 'trennette', 'troffiette', 'acini di pepe', 'alphabets', 'anelli', 'anellini', 'conchigliette', 'ditalini', 'fideos', 'orzo', 'risi', 'seme di melone', 'stelle', 'stortini', 'tripolini', 'tubetti', 'calamaretti', 'canneroni', 'cannelloni', 'cannolicchi', 'elicoidali', 'garganelli', 'macaroni', 'maccheroncelli', 'manicotti', 'mostaccioli', 'paccheri', 'pasta al ceppo', 'penne', 'pennette', 'perciatelli', 'reginelle', 'rigatoni', 'tortiglioni', 'ziti', 'agnolotti', 'manti', 'pansotti', 'ravioli', 'tortelli', 'tortellini', 'tortelloni', 'asian noodles', 'asian wheat noodles', 'asian rice noodles', 'other asian noodles', 'chinese noodles', 'filipino noodles', 'indonesian noodles', 'japanese noodles', 'korean noodles', 'malaysian noodles', 'thai noodles', 'vietnamese noodles', 'chinese egg noodles', 'chinese wheat noodles', 'chow mein noodles', 'crispy chow mein noodles', 'chuka soba noodles', 'e-fu noodles', 'gook soo', 'hiyamugi', 'hong kong noodles', 'kishimen', 'lo mein noodles', 'mi chay', 'miswa', 'pancit canton', 'ramen', 'shanghai noodles', 'somen', 'udon', 'wonton noodles', 'rice noodles', 'medium rice sticks', 'rice flake noodles', 'rice sticks', 'rice vermicelli', 'thin rice sticks', 'silver pin noodles', 'wide rice noodles', 'river rice noodles', 'saifun', 'cornstarch noodles', 'harusame', 'korean sweet potato vermicelli', 'korean buckwheat noodles', 'seaweed noodles', 'shirataki', 'cha soba', 'tapioca sticks', 'tofu noodles', 'big couscous', 'cérnametélt', 'couscous', 'csiga noodles', 'egg noodles', 'fadennudeln', 'greek egg noodles', 'spaetzle', 'egg barley', 'bread dough', 'gnocchi', 'kadaif', 'matzo ball', 'masa', 'patty shell', 'pie pastry', 'phyllo', 'poi', 'polenta', 'puff pastry', 'seitan', 'yufka', 'thickeners', 'beurre maniķ', 'egg yolk', 'instant-blending flour', 'pectin', 'roux', 'agar', 'carrageen', 'gelatin', 'gelatin dessert mix', 'glace', 'isinglass', 'starch thickeners', 'tips:', 'arrowroot starch', 'cornstarch', 'instant clearjel«', 'instant tapioca', 'kudzu powder', 'lotus root flour', 'potato starch', 'sago starch', 'sahlab', 'soy starch', 'sweet potato starch', 'sweet rice flour', 'tapioca pearls', 'tapioca starch', 'water chestnut flour', 'aluminum foil', 'bamboo leaves', 'banana leaves', 'corn husk', 'dumpling wrappers', 'egg roll wrappers', 'empanada wrappers', 'fig leaf', 'grape leaves', 'gyoza wrappers', 'lotus leaves', 'lumpia wrapper', 'parchment paper', 'plastic wrap', 'potsticker wrappers', 'rice paper', 'sausage casings', 'ti leaves', 'wax paper', 'wonton wrappers', 'bagel', 'bialy', 'bolillo', 'breadsticks', 'brioche', 'challah', 'ciabatta', 'corn rye bread', 'croissant', 'crumpet', 'dreikornbrot', 'english muffin', 'bâtarde', 'greek bread', 'italian bread', 'kommisbrot', 'limpa bread', 'portuguese sweet bread', 'pugliese bread', 'pumpernickel bread', 'raisin bread', 'rye bread', 'sourdough bread', 'starter breads', 'amaretti', 'biscotti', 'butter cookie', 'cannoli shell', 'chocolate wafer', 'cialde', 'corico', 'ginger nut', 'gingersnap', 'ladyfingers', 'macaroon', 'madeleine', 'mandelbrot', 'oreo® cookie', 'palm leaf', 'regina cookies', 'russian tea cookie', 'shortbread', 'vanilla wafer', 'angel food cake', 'ciambellone', 'groninger koek', 'moon cake', 'panettone', 'pound cake', 'scone', 'shortcake', 'stollen', 'bagel chips', 'breakfast cracker', 'chips', 'corn chips', 'crostini', 'croustade', 'croutons', 'digestive biscuit', 'graham crackers', 'hardtack', 'highland oatcakes', 'matzo', 'melba toast', 'pappadam', 'potato chips', 'pretzel', 'rice cake', 'rice crackers', 'ritz® cracker', 'saltine cracker', 'soup nuts', 'tortilla chips', 'triscuit®', 'water cracker', 'zwieback', 'breadcrumbs', 'cake crumbs', 'chocolate wafer crumbs', 'coating mix', 'cornbread crumbs', 'cornflake crumbs', 'cracker meal', 'farfel', 'gingersnap crumbs', 'graham cracker crumbs', 'matzo meal', 'panko', 'stuffing', 'vanilla wafer crumbs', 'arepa', 'baked pizza crust', 'bammy', 'barbari bread', 'bolo de milho', 'chapati', 'corn tortilla', 'lawasha', 'flour tortilla', 'focaccia', 'gordita', 'hönö', 'idli', 'injera', 'lefse', 'mandarin pancakes', 'naan', 'paratha', 'pita bread', 'pupusa', 'sangak bread', 'sope', 'taco shell', 'tortilla', 'black-eyed pea', 'chickpea', 'green pea', 'pigeon pea', 'yellow pea', 'french green lentils', 'beluga lentil', 'black chickpeas', 'brown lentil', 'channa dal', 'masoor', 'masoor dal', 'moong dal', 'red lentil', 'toor', 'toor dal', 'urad dal', 'urad dal, skinned and split', 'urad dal, split', 'val dal', 'anasazi', 'appaloosa bean', 'azuki bean', 'bayo bean', 'black azuki bean', 'black bean', 'bolita bean', 'brown speckled cow bean', 'cannellini bean', 'calypso bean', 'chili bean', 'christmas lima bean', 'cranberry bean', 'european soldier bean', 'eye of the goat bean', 'fava bean', 'flageolet', 'great northern bean', 'jackson wonder bean', 'lablab bean', 'lima bean', 'lupini bean', 'maicoba bean', 'mortgage runner bean', 'mung bean', 'navy bean', 'pinto bean', 'rattlesnake bean', 'red ball bean', 'red bean', 'red kidney bean', 'rice bean', 'scarlet runner bean', 'soybean', 'steuben yellow bean', 'swedish brown bean', 'tepary bean', 'tolosana bean', 'tongues of fire bean', 'trout bean', 'vallarta bean', 'whit bean', 'yellow indian woman bean', 'acorn', 'almond', 'black walnut', 'blanched almond', 'brazil nut', 'candlenut', 'cashew', 'chestnut', 'chinese almond', 'dried chestnut', 'gingko nut', 'hazelnut', 'hickory nut', 'kluwak nuts', 'macadamia nut', 'peanut', 'pecan', 'pine nut', 'pistachio nut', 'sliced almonds', 'slivered almond', 'walnut', 'water caltrop', 'abura-age', 'atsu-age', 'barley miso', 'bean stick', 'brown rice miso', 'deep-fried tofu', 'extra-firm tofu', 'fermented bean curd', 'firm tofu', 'hatcho miso', 'miso', 'natto', 'okara', 'pressed tofu', 'red miso', 'silken tofu', 'soft tofu', 'soy cheese', 'soy mayonnaise', 'soy yogurt', 'soynuts', 'soynut butter', 'tempeh', 'textured soy protein', 'tofu', 'white miso', 'yuba', 'fermented black bean', 'refried beans', 'black chicken', 'chicken', 'halves', 'cornish game hen', 'old duck', 'giblets', 'goose', 'ground chicken', 'ground turkey', 'guinea fowl', 'pheasant', 'poussin', 'turkey', 'blade roast', 'chuck eye steak', 'cross rib roast', 'pot roast', 'rib-eye steak', 'rib roast', 'filet mignon', 'porterhouse steak', 'sirloin steak', 't-bone steak', 'top sirloin steak', 'tri-tip roast', 'top round steak', 'round steak', 'rump roast', 'hanger steak', 'flank steak', 'short ribs', 'skirt steak', 'beef bones', 'beef shank', 'cube steak', 'ground beef', 'oxtail', 'stew beef', 'pork shoulder', 'boston butt', 'loin', 'pork back ribs', 'pork butterfly chop', 'pork center loin roast', 'pork country-style ribs', 'pork loin chop', 'pork rib chop', 'pork sirloin cutlet', 'pork tenderloin', 'pork leg', 'pork side', 'pork spareribs', 'pork picnic shoulder', 'pork arm picnic', 'ground pork', \"pig's feet\", 'lamb shoulder', 'lamb shoulder chop', 'lamb blade chop', 'lamb shoulder roast', 'lamb neck slices', 'lamb ribs', 'rack of lamb', 'lamb rib chop', 'lamb loin', 'lamb loin chop', 'lamb loin roast', 'lamb sirloin chop', 'lamb leg', 'sirloin half of leg', 'breast of lamb', 'denver ribs', 'lamb shank', 'lamb spareribs', 'miscellaneous lamb cuts', 'ground lamb', 'lamb stew meat', 'shoulder', 'veal ribs', 'veal loin', 'veal loin chop', 'veal leg', 'veal cutlet', 'veal breast', 'miscellaneous cuts', 'ground veal', 'veal shank', 'veal stew meat', 'emu', 'frog', 'goat', 'ostrich', 'rabbit', 'alligator', 'partridge', 'pigeon', 'quail', 'venison', 'bacon', 'imitation bacon bits', 'canadian bacon', 'fatback', 'gypsy bacon', 'irish bacon', 'pancetta', 'salt pork', 'abruzzo sausage', 'andouille', 'andouillette', 'banger', 'bauerwurst', 'blood sausage', 'blutwurst', 'bockwurst', 'boerewors', 'boudin blanc', 'bratwurst', 'breakfast sausage patty', 'chorizo, mexican', 'chorizo, spanish', 'chourico', 'cocktail wieners', 'cotechino', 'farinheiras', 'french andouille sausage', 'grützewurst', 'hot dog', 'italian sausage', 'kielbasa', 'kishke', 'knackwurst', 'kolbasz', 'landjager', 'lap cheong', 'linguica', 'longanisa', 'medisterpoelse sausage', 'merguez sausage', 'mettwurst', 'morcelas', 'morcilla', 'pepperoni', 'pickled pork', 'pinkelwurst', 'potato korv', 'romagnolo sausage', 'salpicao', 'scrapple', 'smoked bratwurst', 'sobrasade', 'sujuk', 'tocino', 'tuscan sausage', 'vienna sausage', 'weisswurst', 'alpino salami', 'basturma', 'bierwurst', 'bologna', 'calabrese sausage', 'coppa salami', 'corned beef', 'csabai', 'galantina', 'gelbwurst', 'headcheese', 'jagdwurst', 'krakauer', 'lebanon bologna', 'leberkäse', 'liverwurst', 'mortadella', 'olive loaf', 'pastrami', 'pate', 'plockwurst', 'rauchfleisch', 'ringwurst', 'salami', 'schinkenwurst', 'soppressata', 'sulze', 'summer sausage', 'teewurst', 'thuringer', 'tongue loaf', 'touristenwurst', 'zungenwurst', 'city hams', 'bauerschinken', 'black forest ham', 'capocolla', 'city ham', 'country ham', 'deviled ham', 'kassler', 'kassler rippchen', 'lachsschinken', 'nuss schinken', 'prosciutto', 'schinkenspeck', 'serrano ham', 'smoked ham hock', 'smoked hog jowl', \"smoked pig's foot\", 'smoked pork neck bones', 'tasso', 'westphalian ham', 'beef heart', 'pork heart', 'beef kidney', 'lamb kidneys', 'pork kidneys', 'veal kidneys', 'beef liver', 'calf liver', 'chicken liver', 'pork liver', 'blood', 'brains', 'sweetbreads', 'calf fry', 'tongue', 'tripe', 'beef jerky', 'biltong', 'bresaola', 'bunderfleisch', 'chipped beef', 'turkey jerky', 'cobia', 'grouper', 'lingcod', 'mahi-mahi', 'marlin', 'pomfret', 'pompano', 'shark', 'sheepshead', 'skate', 'striped bass', 'swordfish', 'tilapia', 'anchovies', 'basa', 'carp', 'catfish', 'elvers', 'spiny eel', 'sturgeon', 'skipjack', 'scrod', 'cusk', 'hake', 'haddock', 'pollock', 'john dory', 'redfish', 'flounder', 'halibut', 'sand dabs', 'sole', 'mullet', 'ocean perch', 'walleye', 'scup', 'red snapper', 'rockfish', 'taape', 'orange roughy', 'tilefish', 'ayu', 'salmon', 'coho salmon', 'escobar', 'mackerel', 'sardines', 'smelt', 'spanish mackerel', 'trout', 'bombay duck', 'dried shrimp', 'fish balls', 'fish paste', 'gravlax', 'kamaboko', 'lox', 'salt cod', 'smoked eel', 'smoked salmon', 'smoked sprats', 'smoked whitefish', 'abalone', 'bay scallops', 'bloody clam', 'canal shrimp', 'conch', 'crab', 'crayfish', 'dublin bay prawn', 'geoduck clam', 'green mussel', 'hard-shell clam', 'lobster', 'manila clam', 'mussels', 'octopus', 'oyster', 'periwinkle', 'prince edward island mussel', 'quahog', 'razor clam', 'scallops', 'sea scallop', 'sea slug', 'shrimp', 'shrimp meat', 'soft-shell clam', 'squid', 'surf clam', 'surimi', 'blue crab', 'crab cake', 'dungeness crab', 'jonah crab', 'king crab', 'peekytoe crabs', 'snow crab', 'stone crab', 'bottarga', 'capelin roe', 'flying fish roe', 'lumpfish roe', 'salmon roe', 'salted', 'sea urchin roe', 'shad roe', 'smelt roe', 'tarama', 'baking powder', 'double-acting baking powder', 'baking soda', \"baker's ammonia\", 'potash', 'potassium bicarbonate', 'yeast', 'active dry yeast', \"baker's yeast\", 'beer yeast', 'bread machine yeast', \"brewer's yeast\", 'fresh yeast', 'instant yeast', 'nutritional yeast', 'wine ball', 'wine yeast', 'yeast extract', 'yeast starter', 'butter', 'butter powder', 'caul fat', 'clarified butter', 'european-style butter', 'lard', 'margarine', 'shortening', 'suet', 'canola oil', 'grapeseed oil', 'hazelnut oil', 'hot chili oil', 'mustard oil', 'olive oil', 'palm oil', 'schmaltz', 'vegetable oil spray', 'carnation', 'chamomile', 'dianthus', 'golden needles', 'impatiens', 'jamaica', 'lavender', 'nasturtium', 'pansy', 'rose petals', 'sage blossoms', 'squash blossoms', 'alum', 'cream of tartar', 'xanthan', 'food coloring', 'glycerin', 'gypsum powder', 'kampyo', 'lecithin', 'malt powder', 'mastic gum', 'monosodium glutamate', 'rennet', 'sake lees', 'saltpeter', 'slaked lime', 'stevia extract', 'whipped cream stabilizer', 'yam cake', 'bread and butter pickles', 'capers', 'caper berry', 'cornichon', 'giardiniera', 'kim chee', 'pepperoncini', 'pickled asparagus', 'picked ginger', 'pickled mango', 'pickled mustard cabbage', 'pickled onions', 'pickled string beans', 'sauerkraut', 'sweet cherry pepper'])"
      ]
     },
     "execution_count": 19,
     "metadata": {},
     "output_type": "execute_result"
    }
   ],
   "source": [
    "get_common_name.values()"
   ]
  },
  {
   "cell_type": "code",
   "execution_count": 9,
   "metadata": {},
   "outputs": [],
   "source": [
    "cooks_thesaurus = { 'key': get_name_key,\n",
    "                    'subs': get_subs,\n",
    "                    'common': get_common_name\n",
    "                }\n",
    "with open('cooks_thesaurus_dict.pkl', 'wb') as file:\n",
    "     pickle.dump( cooks_thesaurus, file )"
   ]
  },
  {
   "cell_type": "code",
   "execution_count": 3,
   "metadata": {},
   "outputs": [],
   "source": [
    "with open('cooks_thesaurus_dict.pkl', 'rb') as file:\n",
    "     cooks_thesaurus = pickle.load( file )"
   ]
  },
  {
   "cell_type": "markdown",
   "metadata": {},
   "source": [
    "## How to use dictionaries\n",
    "### 1. Get the name key for ingredient"
   ]
  },
  {
   "cell_type": "code",
   "execution_count": 5,
   "metadata": {},
   "outputs": [
    {
     "data": {
      "text/plain": [
       "'burdock'"
      ]
     },
     "execution_count": 5,
     "metadata": {},
     "output_type": "execute_result"
    }
   ],
   "source": [
    "cooks_thesaurus['key'][ lemmatizer.lemmatize('gobo root') ]"
   ]
  },
  {
   "cell_type": "markdown",
   "metadata": {},
   "source": [
    "### 2. Get substitutions"
   ]
  },
  {
   "cell_type": "code",
   "execution_count": 6,
   "metadata": {},
   "outputs": [
    {
     "data": {
      "text/plain": [
       "['salsify', 'asparagus', 'artichoke hearts']"
      ]
     },
     "execution_count": 6,
     "metadata": {},
     "output_type": "execute_result"
    }
   ],
   "source": [
    "cooks_thesaurus['subs'][ cooks_thesaurus['key'][ lemmatizer.lemmatize('gobo root') ] ]"
   ]
  },
  {
   "cell_type": "markdown",
   "metadata": {},
   "source": [
    "### 3. Get common name"
   ]
  },
  {
   "cell_type": "code",
   "execution_count": 7,
   "metadata": {},
   "outputs": [
    {
     "data": {
      "text/plain": [
       "'burdock'"
      ]
     },
     "execution_count": 7,
     "metadata": {},
     "output_type": "execute_result"
    }
   ],
   "source": [
    "cooks_thesaurus['common'][ cooks_thesaurus['key'][ lemmatizer.lemmatize('gobo root') ] ]"
   ]
  }
 ],
 "metadata": {
  "kernelspec": {
   "display_name": "Python 3.9.14 ('venv': venv)",
   "language": "python",
   "name": "python3"
  },
  "language_info": {
   "codemirror_mode": {
    "name": "ipython",
    "version": 3
   },
   "file_extension": ".py",
   "mimetype": "text/x-python",
   "name": "python",
   "nbconvert_exporter": "python",
   "pygments_lexer": "ipython3",
   "version": "3.9.14"
  },
  "orig_nbformat": 4,
  "vscode": {
   "interpreter": {
    "hash": "c30788dc49a0c450f8bd710beb08d90334d11c93adc4c59cb8ced2464dfa7ad1"
   }
  }
 },
 "nbformat": 4,
 "nbformat_minor": 2
}
