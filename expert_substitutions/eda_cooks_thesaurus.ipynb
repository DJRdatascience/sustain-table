{
 "cells": [
  {
   "cell_type": "markdown",
   "metadata": {},
   "source": [
    "### Exploratory data analysis for Cook's Thesaurus dataset\n",
    "\n",
    "This notebooks contains a brief evaluation of the data scrapped from Cook's Thesaurus."
   ]
  },
  {
   "cell_type": "markdown",
   "metadata": {},
   "source": [
    "### 1. Import modules and data"
   ]
  },
  {
   "cell_type": "code",
   "execution_count": 30,
   "metadata": {},
   "outputs": [
    {
     "data": {
      "text/html": [
       "<div>\n",
       "<style scoped>\n",
       "    .dataframe tbody tr th:only-of-type {\n",
       "        vertical-align: middle;\n",
       "    }\n",
       "\n",
       "    .dataframe tbody tr th {\n",
       "        vertical-align: top;\n",
       "    }\n",
       "\n",
       "    .dataframe thead th {\n",
       "        text-align: right;\n",
       "    }\n",
       "</style>\n",
       "<table border=\"1\" class=\"dataframe\">\n",
       "  <thead>\n",
       "    <tr style=\"text-align: right;\">\n",
       "      <th></th>\n",
       "      <th>cat</th>\n",
       "      <th>cat url</th>\n",
       "      <th>subcat</th>\n",
       "      <th>subcat url</th>\n",
       "      <th>subcat img</th>\n",
       "      <th>item</th>\n",
       "      <th>item equivalents</th>\n",
       "      <th>item substitutions</th>\n",
       "      <th>item img</th>\n",
       "    </tr>\n",
       "  </thead>\n",
       "  <tbody>\n",
       "    <tr>\n",
       "      <th>0</th>\n",
       "      <td>vegetables</td>\n",
       "      <td>http://www.foodsubs.com/FGVegetables.html</td>\n",
       "      <td>roots</td>\n",
       "      <td>http://www.foodsubs.com/Roots.html</td>\n",
       "      <td>http://www.foodsubs.com/Photos/rootsgroup.jpg</td>\n",
       "      <td>[beet, beetroots]</td>\n",
       "      <td>[3 - 5 medium beets, 1 lb., 2 cups diced]</td>\n",
       "      <td>[carrots, slicing tomatoes]</td>\n",
       "      <td>http://www.foodsubs.com/Photos/beets2.jpg</td>\n",
       "    </tr>\n",
       "    <tr>\n",
       "      <th>1</th>\n",
       "      <td>vegetables</td>\n",
       "      <td>http://www.foodsubs.com/FGVegetables.html</td>\n",
       "      <td>roots</td>\n",
       "      <td>http://www.foodsubs.com/Roots.html</td>\n",
       "      <td>http://www.foodsubs.com/Photos/rootsgroup.jpg</td>\n",
       "      <td>[black radish]</td>\n",
       "      <td>[]</td>\n",
       "      <td>[rutabaga, turnip]</td>\n",
       "      <td>http://www.foodsubs.com/Photos/root-blackradis...</td>\n",
       "    </tr>\n",
       "    <tr>\n",
       "      <th>2</th>\n",
       "      <td>vegetables</td>\n",
       "      <td>http://www.foodsubs.com/FGVegetables.html</td>\n",
       "      <td>roots</td>\n",
       "      <td>http://www.foodsubs.com/Roots.html</td>\n",
       "      <td>http://www.foodsubs.com/Photos/rootsgroup.jpg</td>\n",
       "      <td>[burdock, gobo root, great burdock, beggar's b...</td>\n",
       "      <td>[]</td>\n",
       "      <td>[salsify, asparagus, artichoke hearts]</td>\n",
       "      <td>http://www.foodsubs.com/Photos/roots-burdock.jpg</td>\n",
       "    </tr>\n",
       "    <tr>\n",
       "      <th>3</th>\n",
       "      <td>vegetables</td>\n",
       "      <td>http://www.foodsubs.com/FGVegetables.html</td>\n",
       "      <td>roots</td>\n",
       "      <td>http://www.foodsubs.com/Roots.html</td>\n",
       "      <td>http://www.foodsubs.com/Photos/rootsgroup.jpg</td>\n",
       "      <td>[carrot]</td>\n",
       "      <td>[1 large carrot, 1 cup grated]</td>\n",
       "      <td>[parsnip, jicama, daikon, celery, celeriac, tu...</td>\n",
       "      <td>http://www.foodsubs.com/Photos/carrot.jpg</td>\n",
       "    </tr>\n",
       "    <tr>\n",
       "      <th>4</th>\n",
       "      <td>vegetables</td>\n",
       "      <td>http://www.foodsubs.com/FGVegetables.html</td>\n",
       "      <td>roots</td>\n",
       "      <td>http://www.foodsubs.com/Roots.html</td>\n",
       "      <td>http://www.foodsubs.com/Photos/rootsgroup.jpg</td>\n",
       "      <td>[celeriac, celery root, celery knob, turnip-ro...</td>\n",
       "      <td>[]</td>\n",
       "      <td>[turnips, celery ribs, parsley root, carrots +...</td>\n",
       "      <td>http://www.foodsubs.com/Photos/root-celeryroot...</td>\n",
       "    </tr>\n",
       "  </tbody>\n",
       "</table>\n",
       "</div>"
      ],
      "text/plain": [
       "          cat                                    cat url subcat  \\\n",
       "0  vegetables  http://www.foodsubs.com/FGVegetables.html  roots   \n",
       "1  vegetables  http://www.foodsubs.com/FGVegetables.html  roots   \n",
       "2  vegetables  http://www.foodsubs.com/FGVegetables.html  roots   \n",
       "3  vegetables  http://www.foodsubs.com/FGVegetables.html  roots   \n",
       "4  vegetables  http://www.foodsubs.com/FGVegetables.html  roots   \n",
       "\n",
       "                           subcat url  \\\n",
       "0  http://www.foodsubs.com/Roots.html   \n",
       "1  http://www.foodsubs.com/Roots.html   \n",
       "2  http://www.foodsubs.com/Roots.html   \n",
       "3  http://www.foodsubs.com/Roots.html   \n",
       "4  http://www.foodsubs.com/Roots.html   \n",
       "\n",
       "                                      subcat img  \\\n",
       "0  http://www.foodsubs.com/Photos/rootsgroup.jpg   \n",
       "1  http://www.foodsubs.com/Photos/rootsgroup.jpg   \n",
       "2  http://www.foodsubs.com/Photos/rootsgroup.jpg   \n",
       "3  http://www.foodsubs.com/Photos/rootsgroup.jpg   \n",
       "4  http://www.foodsubs.com/Photos/rootsgroup.jpg   \n",
       "\n",
       "                                                item  \\\n",
       "0                                  [beet, beetroots]   \n",
       "1                                     [black radish]   \n",
       "2  [burdock, gobo root, great burdock, beggar's b...   \n",
       "3                                           [carrot]   \n",
       "4  [celeriac, celery root, celery knob, turnip-ro...   \n",
       "\n",
       "                            item equivalents  \\\n",
       "0  [3 - 5 medium beets, 1 lb., 2 cups diced]   \n",
       "1                                         []   \n",
       "2                                         []   \n",
       "3             [1 large carrot, 1 cup grated]   \n",
       "4                                         []   \n",
       "\n",
       "                                  item substitutions  \\\n",
       "0                        [carrots, slicing tomatoes]   \n",
       "1                                 [rutabaga, turnip]   \n",
       "2             [salsify, asparagus, artichoke hearts]   \n",
       "3  [parsnip, jicama, daikon, celery, celeriac, tu...   \n",
       "4  [turnips, celery ribs, parsley root, carrots +...   \n",
       "\n",
       "                                            item img  \n",
       "0          http://www.foodsubs.com/Photos/beets2.jpg  \n",
       "1  http://www.foodsubs.com/Photos/root-blackradis...  \n",
       "2   http://www.foodsubs.com/Photos/roots-burdock.jpg  \n",
       "3          http://www.foodsubs.com/Photos/carrot.jpg  \n",
       "4  http://www.foodsubs.com/Photos/root-celeryroot...  "
      ]
     },
     "execution_count": 30,
     "metadata": {},
     "output_type": "execute_result"
    }
   ],
   "source": [
    "import pandas as pd\n",
    "import matplotlib.pyplot as plt\n",
    "import seaborn as sns\n",
    "sns.set( style='whitegrid' )\n",
    "\n",
    "df = pd.read_pickle('cooks_thesaurus_results_Oct12.pkl')\n",
    "df.head()"
   ]
  },
  {
   "cell_type": "markdown",
   "metadata": {},
   "source": [
    "### 2. Number of scrapped items\n",
    "\n",
    "To start, we'll have a look at how many individual items we scrapped from each category. To do so, we'll consider a barplot."
   ]
  },
  {
   "cell_type": "code",
   "execution_count": 40,
   "metadata": {},
   "outputs": [
    {
     "data": {
      "image/png": "[encoded data removed]",
      "text/plain": [
       "<Figure size 432x288 with 1 Axes>"
      ]
     },
     "metadata": {},
     "output_type": "display_data"
    }
   ],
   "source": [
    "sns.countplot( x=df['cat'], order=sorted( df['cat'].unique() ) )\n",
    "plt.xticks( rotation=90 )\n",
    "plt.xlabel('')\n",
    "plt.ylabel('Number of scrapped items')\n",
    "plt.show();"
   ]
  },
  {
   "cell_type": "markdown",
   "metadata": {},
   "source": [
    "### 3. Items with suggested substitutions\n",
    "\n",
    "It is also useful to consider how many of the scrapped items have suggested substitutions. This is shown below in a pie diagram."
   ]
  },
  {
   "cell_type": "code",
   "execution_count": 60,
   "metadata": {},
   "outputs": [
    {
     "data": {
      "image/png": "[encoded data removed]",
      "text/plain": [
       "<Figure size 432x288 with 1 Axes>"
      ]
     },
     "metadata": {},
     "output_type": "display_data"
    }
   ],
   "source": [
    "has_sub = df[ df['item substitutions'].map( lambda row: len(row) > 0 ) ].shape[0]\n",
    "no_sub = df[ df['item substitutions'].map( lambda row: len(row) == 0 ) ].shape[0]\n",
    "\n",
    "colors = sns.color_palette()[3:5]\n",
    "plt.pie([has_sub,no_sub], labels=[f'Has substitutes\\n n = {has_sub}', f'No substitutes\\n n = {no_sub}'], colors = colors )\n",
    "plt.show();"
   ]
  }
 ],
 "metadata": {
  "kernelspec": {
   "display_name": "Python 3.9.14 64-bit",
   "language": "python",
   "name": "python3"
  },
  "language_info": {
   "codemirror_mode": {
    "name": "ipython",
    "version": 3
   },
   "file_extension": ".py",
   "mimetype": "text/x-python",
   "name": "python",
   "nbconvert_exporter": "python",
   "pygments_lexer": "ipython3",
   "version": "3.9.14"
  },
  "orig_nbformat": 4,
  "vscode": {
   "interpreter": {
    "hash": "a665b5d41d17b532ea9890333293a1b812fa0b73c9c25c950b3cedf1bebd0438"
   }
  }
 },
 "nbformat": 4,
 "nbformat_minor": 2
}
