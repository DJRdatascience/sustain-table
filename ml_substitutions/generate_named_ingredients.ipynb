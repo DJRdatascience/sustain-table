{
 "cells": [
  {
   "cell_type": "code",
   "execution_count": 15,
   "metadata": {},
   "outputs": [],
   "source": [
    "import json\n",
    "import pickle\n",
    "import pandas as pd\n",
    "\n",
    "# This is a list of named ingredients from the following paper\n",
    "# Pellegrini, C., Özsoy, E., Wintergerst, M. and Groh, G., 2021.\n",
    "# Exploiting Food Embeddings for Ingredient Substitution.\n",
    "# In HEALTHINF (pp. 67-77).\n",
    "with open( 'data/cleaned_yummly_ingredients.json' ) as f:\n",
    "    ingred_set = set( json.load( f ) )\n",
    "\n",
    "# These ingredients are scrapped from cooks thesaurus (see expert substitutions folder)\n",
    "df = pd.read_pickle( 'data/cooks_thesaurus_results_Oct12.pkl' )\n",
    "\n",
    "# This combines both\n",
    "ingred_set |= set( df['item'].apply( pd.Series ).stack().reset_index(drop=True).head() )\n",
    "ingred_set.add('red onion')\n",
    "\n",
    "with open( 'data/named_ingredients.pkl', 'wb' ) as f:\n",
    "    pickle.dump( ingred_set, f )"
   ]
  },
  {
   "cell_type": "code",
   "execution_count": 12,
   "metadata": {},
   "outputs": [],
   "source": [
    "with open( 'data/named_ingredients.pkl', 'rb' ) as f:\n",
    "    o =  pickle.load( f )"
   ]
  }
 ],
 "metadata": {
  "kernelspec": {
   "display_name": "Python 3.9.14 ('venv': venv)",
   "language": "python",
   "name": "python3"
  },
  "language_info": {
   "codemirror_mode": {
    "name": "ipython",
    "version": 3
   },
   "file_extension": ".py",
   "mimetype": "text/x-python",
   "name": "python",
   "nbconvert_exporter": "python",
   "pygments_lexer": "ipython3",
   "version": "3.9.14"
  },
  "orig_nbformat": 4,
  "vscode": {
   "interpreter": {
    "hash": "c30788dc49a0c450f8bd710beb08d90334d11c93adc4c59cb8ced2464dfa7ad1"
   }
  }
 },
 "nbformat": 4,
 "nbformat_minor": 2
}
