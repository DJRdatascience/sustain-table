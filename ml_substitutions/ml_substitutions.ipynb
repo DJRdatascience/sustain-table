{
 "cells": [
  {
   "cell_type": "markdown",
   "metadata": {},
   "source": [
    "# 1. Import modules and define functions"
   ]
  },
  {
   "cell_type": "code",
   "execution_count": 3,
   "metadata": {},
   "outputs": [],
   "source": [
    "import json\n",
    "import pickle\n",
    "import string\n",
    "from collections import Counter\n",
    "from gensim.models import word2vec\n",
    "\n",
    "# This loads in named ingredients, which is used to parse\n",
    "with open( 'data/named_ingredients.pkl', 'rb' ) as f:\n",
    "    ingred_set = pickle.load( f )\n",
    "\n",
    "def parse_ingredients( ingred_line: str ) -> str:\n",
    "    ingred_line = (  ingred_line.lower()\n",
    "                                .translate(\n",
    "                                    str.maketrans( '', '', string.punctuation )\n",
    "                                ) # Removes punctuation\n",
    "                                .split()\n",
    "                                \n",
    "    )\n",
    "    ingred_list = []\n",
    "    for i in range(3,0,-1): # Make a list of all possible trigrams, bigrams, and unigrams\n",
    "        ingred_list += [ ' '.join(ingred_line[ii:ii+i]) for ii in range(len(ingred_line)-(i-1)) ]\n",
    "    for ingred_str in ingred_list:\n",
    "        if ingred_str in ingred_set: # We take first named ingredient found while searching trigrams > bigrams > unigrams\n",
    "            return ingred_str\n",
    "    return ''\n",
    "\n",
    "def recipe_iter( json_object: list ) -> list:\n",
    "    counter = 0\n",
    "    json_len = len(json_object)\n",
    "    reduced = []\n",
    "    for recipe in json_object:\n",
    "        ingred = []\n",
    "        for full_ingred in recipe['ingredients']:\n",
    "            parsed = parse_ingredients( full_ingred['text'] )\n",
    "            if parsed: # Ignore empty strings returned by parse_ingredients()\n",
    "                ingred.append(parsed)\n",
    "        if ingred:\n",
    "            reduced.append( ingred )\n",
    "        counter += 1\n",
    "        if counter%10_000 == 0: # Every 10,000 recipes, save results and print an update\n",
    "            with open( 'data/reduced_ingredients.pkl', 'wb' ) as f:\n",
    "                pickle.dump( reduced, f )\n",
    "            print( f'{counter} of {json_len} complete ({round(100*counter/json_len, 1)}%)', end='\\r' )\n",
    "    return reduced"
   ]
  },
  {
   "cell_type": "markdown",
   "metadata": {},
   "source": [
    "# 2. Import data and clean up"
   ]
  },
  {
   "cell_type": "code",
   "execution_count": 4,
   "metadata": {},
   "outputs": [
    {
     "name": "stdout",
     "output_type": "stream",
     "text": [
      "1020000 of 1029720 complete (99.1%)\r"
     ]
    }
   ],
   "source": [
    "with open( 'data/recipe1M_layer1.json' ) as f:\n",
    "    json_object = json.load( f )\n",
    "    ingredients = recipe_iter( json_object )"
   ]
  },
  {
   "cell_type": "markdown",
   "metadata": {},
   "source": [
    "# 3. Look at ingredients"
   ]
  },
  {
   "cell_type": "code",
   "execution_count": 5,
   "metadata": {},
   "outputs": [
    {
     "data": {
      "text/plain": [
       "[('salt', 428774),\n",
       " ('sugar', 239667),\n",
       " ('butter', 220809),\n",
       " ('flour', 211277),\n",
       " ('olive oil', 174902),\n",
       " ('water', 161278),\n",
       " ('garlic', 153521),\n",
       " ('onion', 130858),\n",
       " ('milk', 121745),\n",
       " ('fresh', 95166),\n",
       " ('ground black pepper', 90000),\n",
       " ('egg', 89270),\n",
       " ('green', 81409),\n",
       " ('brown sugar', 75210),\n",
       " ('unsalted butter', 72394),\n",
       " ('pepper', 70327),\n",
       " ('vegetable oil', 70290),\n",
       " ('baking powder', 70098),\n",
       " ('lemon juice', 65018),\n",
       " ('vanilla extract', 61449)]"
      ]
     },
     "execution_count": 5,
     "metadata": {},
     "output_type": "execute_result"
    }
   ],
   "source": [
    "Counter( [item for sublist in ingredients for item in sublist] ).most_common(20)"
   ]
  },
  {
   "cell_type": "markdown",
   "metadata": {},
   "source": [
    "# 4. Setup word2vec model"
   ]
  },
  {
   "cell_type": "code",
   "execution_count": 6,
   "metadata": {},
   "outputs": [],
   "source": [
    "num_features = 300                \n",
    "min_word_count = 3                    \n",
    "num_workers = -1\n",
    "context = 10                                                                     \n",
    "downsampling = 1e-3"
   ]
  },
  {
   "cell_type": "markdown",
   "metadata": {},
   "source": [
    "# 4. Train the model"
   ]
  },
  {
   "cell_type": "code",
   "execution_count": 12,
   "metadata": {},
   "outputs": [],
   "source": [
    "# Initialize and train the model \n",
    "model = (\n",
    "    word2vec.Word2Vec(  ingredients,\n",
    "                        vector_size=num_features,\n",
    "                        min_count = min_word_count,\n",
    "                        window = context,\n",
    "                        sample = downsampling,\n",
    "                        workers=num_workers)\n",
    ")"
   ]
  },
  {
   "cell_type": "markdown",
   "metadata": {},
   "source": [
    "# 5. Cache results\n",
    "We'll store the 10 top most similiar ingredients for all named ingredients that exist in the corpus."
   ]
  },
  {
   "cell_type": "code",
   "execution_count": 45,
   "metadata": {},
   "outputs": [],
   "source": [
    "most_similar = {}\n",
    "for ingred in ingred_set:\n",
    "    if ingred in model.wv:\n",
    "        similar = model.wv.most_similar( ingred )\n",
    "        most_similar[ingred] = [ tup[0] for tup in similar ]\n",
    "with open( 'ml_substitutions.pkl', 'wb' ) as f:\n",
    "    pickle.dump( most_similar, f )"
   ]
  },
  {
   "cell_type": "code",
   "execution_count": 44,
   "metadata": {},
   "outputs": [
    {
     "data": {
      "text/plain": [
       "['ranch dressing',\n",
       " 'yolk',\n",
       " 'crispy bacon',\n",
       " 'light lager',\n",
       " 'chinese rice vinegar',\n",
       " 'turbot fillet',\n",
       " 'croissant dough',\n",
       " 'bicarbonate of soda',\n",
       " 'chopped celery',\n",
       " 'apricot jelly']"
      ]
     },
     "execution_count": 44,
     "metadata": {},
     "output_type": "execute_result"
    }
   ],
   "source": [
    "most_similar['egg']"
   ]
  },
  {
   "cell_type": "code",
   "execution_count": 16,
   "metadata": {},
   "outputs": [
    {
     "data": {
      "text/plain": [
       "['penne',\n",
       " 'cheese sauce',\n",
       " 'cheddar',\n",
       " 'gruyere cheese',\n",
       " 'chili powder',\n",
       " 'unsalted butter',\n",
       " 'flour',\n",
       " 'milk',\n",
       " 'cheese',\n",
       " 'cheese',\n",
       " 'kosher salt',\n",
       " 'chili powder',\n",
       " 'garlic powder']"
      ]
     },
     "execution_count": 16,
     "metadata": {},
     "output_type": "execute_result"
    }
   ],
   "source": [
    "ingredients[0]"
   ]
  },
  {
   "cell_type": "code",
   "execution_count": 42,
   "metadata": {},
   "outputs": [
    {
     "data": {
      "text/plain": [
       "['guacamole',\n",
       " 'vanilla',\n",
       " 'summer squash',\n",
       " 'low sodium salt',\n",
       " 'large egg',\n",
       " 'cream sherry',\n",
       " 'ciabatta',\n",
       " 'char siu',\n",
       " 'turkey broth',\n",
       " 'gingerroot']"
      ]
     },
     "execution_count": 42,
     "metadata": {},
     "output_type": "execute_result"
    }
   ],
   "source": [
    "x = model.wv.most_similar('salt')\n",
    "[ y[0] for y in x ]"
   ]
  },
  {
   "cell_type": "code",
   "execution_count": 31,
   "metadata": {},
   "outputs": [
    {
     "name": "stdout",
     "output_type": "stream",
     "text": [
      "red\n",
      "onion\n"
     ]
    }
   ],
   "source": [
    "txt = json_object[2]['ingredients'][2]['text'].lower()\n",
    "txt = txt.translate(\n",
    "    str.maketrans( '', '', string.punctuation )\n",
    ")\n",
    "ingred_line = txt.split()\n",
    "ingred_list = []\n",
    "for i in range(3,0,-1):\n",
    "    ingred_list += [ ' '.join(ingred_line[ii:ii+i]) for ii in range(len(ingred_line)-(i-1)) ]\n",
    "for ingred_str in ingred_list:\n",
    "    if ingred_str in ingred_set:\n",
    "        print( ingred_str )"
   ]
  },
  {
   "cell_type": "code",
   "execution_count": 18,
   "metadata": {},
   "outputs": [
    {
     "data": {
      "text/plain": [
       "['1 green bell',\n",
       " 'green bell pepper,',\n",
       " 'bell pepper, cut',\n",
       " 'pepper, cut into',\n",
       " 'cut into small',\n",
       " 'into small dice',\n",
       " '1 green',\n",
       " 'green bell',\n",
       " 'bell pepper,',\n",
       " 'pepper, cut',\n",
       " 'cut into',\n",
       " 'into small',\n",
       " 'small dice',\n",
       " '1',\n",
       " 'green',\n",
       " 'bell',\n",
       " 'pepper,',\n",
       " 'cut',\n",
       " 'into',\n",
       " 'small',\n",
       " 'dice']"
      ]
     },
     "execution_count": 18,
     "metadata": {},
     "output_type": "execute_result"
    }
   ],
   "source": [
    "ingred_list"
   ]
  },
  {
   "cell_type": "code",
   "execution_count": null,
   "metadata": {},
   "outputs": [],
   "source": [
    "ingred_list"
   ]
  },
  {
   "cell_type": "markdown",
   "metadata": {},
   "source": []
  },
  {
   "cell_type": "code",
   "execution_count": 11,
   "metadata": {},
   "outputs": [
    {
     "data": {
      "text/plain": [
       "['kosher salt', 'red', 'green', 'red', 'olive', 'fresh']"
      ]
     },
     "execution_count": 11,
     "metadata": {},
     "output_type": "execute_result"
    }
   ],
   "source": [
    "ingredients[2]"
   ]
  },
  {
   "cell_type": "code",
   "execution_count": 5,
   "metadata": {},
   "outputs": [
    {
     "data": {
      "text/plain": [
       "'hello'"
      ]
     },
     "execution_count": 5,
     "metadata": {},
     "output_type": "execute_result"
    }
   ],
   "source": [
    "' '.join(['hello'])"
   ]
  },
  {
   "cell_type": "code",
   "execution_count": 22,
   "metadata": {},
   "outputs": [
    {
     "data": {
      "text/plain": [
       "['1 c. elbow macaroni',\n",
       " '1 c. cubed American cheese (4 ounce.)',\n",
       " '1/2 c. sliced celery',\n",
       " '1/2 c. minced green pepper',\n",
       " '3 tbsp. minced pimento',\n",
       " '1/2 c. mayonnaise or possibly salad dressing',\n",
       " '1 tbsp. vinegar',\n",
       " '3/4 teaspoon salt',\n",
       " '1/2 teaspoon dry dill weed']"
      ]
     },
     "execution_count": 22,
     "metadata": {},
     "output_type": "execute_result"
    }
   ],
   "source": []
  }
 ],
 "metadata": {
  "kernelspec": {
   "display_name": "Python 3.9.14 64-bit",
   "language": "python",
   "name": "python3"
  },
  "language_info": {
   "codemirror_mode": {
    "name": "ipython",
    "version": 3
   },
   "file_extension": ".py",
   "mimetype": "text/x-python",
   "name": "python",
   "nbconvert_exporter": "python",
   "pygments_lexer": "ipython3",
   "version": "3.9.14"
  },
  "orig_nbformat": 4,
  "vscode": {
   "interpreter": {
    "hash": "a665b5d41d17b532ea9890333293a1b812fa0b73c9c25c950b3cedf1bebd0438"
   }
  }
 },
 "nbformat": 4,
 "nbformat_minor": 2
}
